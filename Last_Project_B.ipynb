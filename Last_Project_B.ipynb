{
  "nbformat": 4,
  "nbformat_minor": 0,
  "metadata": {
    "colab": {
      "name": "Last Project C.ipynb",
      "provenance": [],
      "authorship_tag": "ABX9TyMmifp6Fh6cQ2tZNJFi7v8K",
      "include_colab_link": true
    },
    "kernelspec": {
      "name": "python3",
      "display_name": "Python 3"
    }
  },
  "cells": [
    {
      "cell_type": "markdown",
      "metadata": {
        "id": "view-in-github",
        "colab_type": "text"
      },
      "source": [
        "<a href=\"https://colab.research.google.com/github/asihyl/Pusat-Studi-Data-Sains-UAD/blob/main/Last_Project_C.ipynb\" target=\"_parent\"><img src=\"https://colab.research.google.com/assets/colab-badge.svg\" alt=\"Open In Colab\"/></a>"
      ]
    },
    {
      "cell_type": "markdown",
      "metadata": {
        "id": "TfvQo0lxdhwE"
      },
      "source": [
        "kolom 1 | kolom 2\r\n",
        "-------- | ---------\r\n",
        "Nama | Asih Yuli Astuti\r\n",
        "NIM | 1800015019\r\n",
        "Semester | 5"
      ]
    },
    {
      "cell_type": "code",
      "metadata": {
        "id": "RssfafMxDmXg",
        "colab": {
          "base_uri": "https://localhost:8080/"
        },
        "outputId": "881ae898-819e-49ce-8c7a-e2f880541793"
      },
      "source": [
        "# Mencari Volume Kombinasi Setengah Bola dan Kerucut\r\n",
        "\r\n",
        "print('Mencari Volume Bangun Ruang')\r\n",
        "r = eval(input('jari-jari : '))\r\n",
        "t = eval(input('tinggi : '))\r\n",
        "\r\n",
        "def volume_setengah_bola(r):\r\n",
        "  v = (2/3)*(22/7)*(r**3)\r\n",
        "  return v\r\n",
        "\r\n",
        "def volume_kerucut(r,t):\r\n",
        "  v = (1/3)*(22/7)*(r**2)*t\r\n",
        "  return v\r\n",
        "\r\n",
        "def volume_gabungan(r,t):\r\n",
        "  v1 = (2/3)*(22/7)*(r**3)\r\n",
        "  v2 = (1/3)*(22/7)*(r**2)*t\r\n",
        "  v = v1+v2\r\n",
        "  return v\r\n",
        "\r\n",
        "print('')\r\n",
        "print('Volume Setengah Bola =' ,volume_setengah_bola(r))\r\n",
        "print('Volume Kerucut =' ,volume_kerucut(r,t))\r\n",
        "print('Volume Kombinasi Setengah Bola dan Kerucut =' ,volume_gabungan(r,t))"
      ],
      "execution_count": 8,
      "outputs": [
        {
          "output_type": "stream",
          "text": [
            "Mencari Volume Bangun Ruang\n",
            "jari-jari : 7\n",
            "tinggi : 5\n",
            "\n",
            "Volume Setengah Bola = 718.6666666666665\n",
            "Volume Kerucut = 256.66666666666663\n",
            "Volume Kombinasi Setengah Bola dan Kerucut= 975.3333333333331\n"
          ],
          "name": "stdout"
        }
      ]
    }
  ]
}
